{
    "metadata": {
        "kernelspec": {
            "name": "python3",
            "display_name": "Python 3 (ipykernel)",
            "language": "python"
        }
    },
    "nbformat": 4,
    "nbformat_minor": 2,
    "cells": [
        {
            "attachments": {},
            "cell_type": "markdown",
            "metadata": {},
            "source": [
                "# **Drugs A, B, C, X, Y for Decision Trees**"
            ]
        },
        {
            "attachments": {},
            "cell_type": "markdown",
            "metadata": {},
            "source": [
                "The code below is taken from Pablo M Gomez's submission on [kaggle.com](https://www.kaggle.com/pablomgomez21/decision-trees-practice).\n",
                "\n",
                "You are encouraged to go to the link above and check the full code. In this lab, you will do the necessary steps to explore the data and prepare it for sklearn algorithms."
            ]
        },
        {
            "attachments": {},
            "cell_type": "markdown",
            "metadata": {},
            "source": [
                "**About the data set**"
            ]
        },
        {
            "attachments": {},
            "cell_type": "markdown",
            "metadata": {},
            "source": [
                "Imagine that you are a medical researcher compiling data for a study. You have collected data about a set of patients, all of whom suffered from the same illness. During their course of treatment, each patient responded to one of 5 medications, Drug A, Drug B, Drug c, Drug x and y.\n",
                "\n",
                "Part of your job is to build a model to find out which drug might be appropriate for a future patient with the same illness. The features of this dataset are Age, Sex, Blood Pressure, and the Cholesterol of the patients, and the target is the drug that each patient responded to.\n",
                "\n",
                "It is a sample of multiclass classifier, and you can use the training part of the dataset to build a decision tree, and then use it to predict the class of a unknown patient, or to prescribe a drug to a new patient."
            ]
        },
        {
            "attachments": {},
            "cell_type": "markdown",
            "metadata": {},
            "source": [
                "**Import libraries**"
            ]
        },
        {
            "cell_type": "code",
            "execution_count": 1,
            "metadata": {},
            "outputs": [],
            "source": [
                "import numpy as np # linear algebra\n",
                "import pandas as pd # data processing, CSV file I/O (e.g. pd.read_csv)\n",
                "\n",
                "# import required sklearn libraries for Decision Tree Classifier\n",
                "import sklearn\n",
                "from sklearn.tree import DecisionTreeClassifier\n",
                "from sklearn import preprocessing\n",
                "from sklearn.model_selection import train_test_split"
            ]
        },
        {
            "attachments": {},
            "cell_type": "markdown",
            "metadata": {},
            "source": [
                "# Acquire data"
            ]
        },
        {
            "cell_type": "code",
            "execution_count": 3,
            "metadata": {},
            "outputs": [
                {
                    "data": {
                        "text/html": "\u003cdiv\u003e\n\u003cstyle scoped\u003e\n    .dataframe tbody tr th:only-of-type {\n        vertical-align: middle;\n    }\n\n    .dataframe tbody tr th {\n        vertical-align: top;\n    }\n\n    .dataframe thead th {\n        text-align: right;\n    }\n\u003c/style\u003e\n\u003ctable border=\"1\" class=\"dataframe\"\u003e\n  \u003cthead\u003e\n    \u003ctr style=\"text-align: right;\"\u003e\n      \u003cth\u003e\u003c/th\u003e\n      \u003cth\u003eAge\u003c/th\u003e\n      \u003cth\u003eSex\u003c/th\u003e\n      \u003cth\u003eBP\u003c/th\u003e\n      \u003cth\u003eCholesterol\u003c/th\u003e\n      \u003cth\u003eNa_to_K\u003c/th\u003e\n      \u003cth\u003eDrug\u003c/th\u003e\n    \u003c/tr\u003e\n  \u003c/thead\u003e\n  \u003ctbody\u003e\n    \u003ctr\u003e\n      \u003cth\u003e0\u003c/th\u003e\n      \u003ctd\u003e23\u003c/td\u003e\n      \u003ctd\u003eF\u003c/td\u003e\n      \u003ctd\u003eHIGH\u003c/td\u003e\n      \u003ctd\u003eHIGH\u003c/td\u003e\n      \u003ctd\u003e25.355\u003c/td\u003e\n      \u003ctd\u003edrugY\u003c/td\u003e\n    \u003c/tr\u003e\n    \u003ctr\u003e\n      \u003cth\u003e1\u003c/th\u003e\n      \u003ctd\u003e47\u003c/td\u003e\n      \u003ctd\u003eM\u003c/td\u003e\n      \u003ctd\u003eLOW\u003c/td\u003e\n      \u003ctd\u003eHIGH\u003c/td\u003e\n      \u003ctd\u003e13.093\u003c/td\u003e\n      \u003ctd\u003edrugC\u003c/td\u003e\n    \u003c/tr\u003e\n    \u003ctr\u003e\n      \u003cth\u003e2\u003c/th\u003e\n      \u003ctd\u003e47\u003c/td\u003e\n      \u003ctd\u003eM\u003c/td\u003e\n      \u003ctd\u003eLOW\u003c/td\u003e\n      \u003ctd\u003eHIGH\u003c/td\u003e\n      \u003ctd\u003e10.114\u003c/td\u003e\n      \u003ctd\u003edrugC\u003c/td\u003e\n    \u003c/tr\u003e\n    \u003ctr\u003e\n      \u003cth\u003e3\u003c/th\u003e\n      \u003ctd\u003e28\u003c/td\u003e\n      \u003ctd\u003eF\u003c/td\u003e\n      \u003ctd\u003eNORMAL\u003c/td\u003e\n      \u003ctd\u003eHIGH\u003c/td\u003e\n      \u003ctd\u003e7.798\u003c/td\u003e\n      \u003ctd\u003edrugX\u003c/td\u003e\n    \u003c/tr\u003e\n    \u003ctr\u003e\n      \u003cth\u003e4\u003c/th\u003e\n      \u003ctd\u003e61\u003c/td\u003e\n      \u003ctd\u003eF\u003c/td\u003e\n      \u003ctd\u003eLOW\u003c/td\u003e\n      \u003ctd\u003eHIGH\u003c/td\u003e\n      \u003ctd\u003e18.043\u003c/td\u003e\n      \u003ctd\u003edrugY\u003c/td\u003e\n    \u003c/tr\u003e\n  \u003c/tbody\u003e\n\u003c/table\u003e\n\u003c/div\u003e",
                        "text/plain": "   Age Sex      BP Cholesterol  Na_to_K   Drug\n0   23   F    HIGH        HIGH   25.355  drugY\n1   47   M     LOW        HIGH   13.093  drugC\n2   47   M     LOW        HIGH   10.114  drugC\n3   28   F  NORMAL        HIGH    7.798  drugX\n4   61   F     LOW        HIGH   18.043  drugY"
                    },
                    "execution_count": 3,
                    "metadata": {},
                    "output_type": "execute_result"
                }
            ],
            "source": [
                "# Read in the data using panda's read_csv method\n",
                "my_data = pd.read_csv(\"SupervisedLearning/DrugSelection/drug200.csv\")\n",
                "\n",
                "#TODO: Write code to inspect the first five rows of the dataframe\n",
                "my_data [0:5]"
            ]
        },
        {
            "attachments": {},
            "cell_type": "markdown",
            "metadata": {},
            "source": [
                "# Inspect data"
            ]
        },
        {
            "cell_type": "code",
            "execution_count": 4,
            "metadata": {},
            "outputs": [
                {
                    "data": {
                        "text/plain": "(200, 6)"
                    },
                    "execution_count": 4,
                    "metadata": {},
                    "output_type": "execute_result"
                }
            ],
            "source": [
                "#TODO: Write code to inspect the shape of the data frame\n",
                "my_data.shape"
            ]
        },
        {
            "cell_type": "code",
            "execution_count": 22,
            "metadata": {},
            "outputs": [
                {
                    "data": {
                        "text/html": "\u003cdiv\u003e\n\u003cstyle scoped\u003e\n    .dataframe tbody tr th:only-of-type {\n        vertical-align: middle;\n    }\n\n    .dataframe tbody tr th {\n        vertical-align: top;\n    }\n\n    .dataframe thead th {\n        text-align: right;\n    }\n\u003c/style\u003e\n\u003ctable border=\"1\" class=\"dataframe\"\u003e\n  \u003cthead\u003e\n    \u003ctr style=\"text-align: right;\"\u003e\n      \u003cth\u003e\u003c/th\u003e\n      \u003cth\u003eAge\u003c/th\u003e\n      \u003cth\u003eSex\u003c/th\u003e\n      \u003cth\u003eBP\u003c/th\u003e\n      \u003cth\u003eCholesterol\u003c/th\u003e\n      \u003cth\u003eNa_to_K\u003c/th\u003e\n      \u003cth\u003eDrug\u003c/th\u003e\n    \u003c/tr\u003e\n  \u003c/thead\u003e\n  \u003ctbody\u003e\n    \u003ctr\u003e\n      \u003cth\u003e0\u003c/th\u003e\n      \u003ctd\u003e23\u003c/td\u003e\n      \u003ctd\u003eF\u003c/td\u003e\n      \u003ctd\u003eHIGH\u003c/td\u003e\n      \u003ctd\u003eHIGH\u003c/td\u003e\n      \u003ctd\u003e25.355\u003c/td\u003e\n      \u003ctd\u003edrugY\u003c/td\u003e\n    \u003c/tr\u003e\n    \u003ctr\u003e\n      \u003cth\u003e1\u003c/th\u003e\n      \u003ctd\u003e47\u003c/td\u003e\n      \u003ctd\u003eM\u003c/td\u003e\n      \u003ctd\u003eLOW\u003c/td\u003e\n      \u003ctd\u003eHIGH\u003c/td\u003e\n      \u003ctd\u003e13.093\u003c/td\u003e\n      \u003ctd\u003edrugC\u003c/td\u003e\n    \u003c/tr\u003e\n    \u003ctr\u003e\n      \u003cth\u003e2\u003c/th\u003e\n      \u003ctd\u003e47\u003c/td\u003e\n      \u003ctd\u003eM\u003c/td\u003e\n      \u003ctd\u003eLOW\u003c/td\u003e\n      \u003ctd\u003eHIGH\u003c/td\u003e\n      \u003ctd\u003e10.114\u003c/td\u003e\n      \u003ctd\u003edrugC\u003c/td\u003e\n    \u003c/tr\u003e\n    \u003ctr\u003e\n      \u003cth\u003e3\u003c/th\u003e\n      \u003ctd\u003e28\u003c/td\u003e\n      \u003ctd\u003eF\u003c/td\u003e\n      \u003ctd\u003eNORMAL\u003c/td\u003e\n      \u003ctd\u003eHIGH\u003c/td\u003e\n      \u003ctd\u003e7.798\u003c/td\u003e\n      \u003ctd\u003edrugX\u003c/td\u003e\n    \u003c/tr\u003e\n    \u003ctr\u003e\n      \u003cth\u003e4\u003c/th\u003e\n      \u003ctd\u003e61\u003c/td\u003e\n      \u003ctd\u003eF\u003c/td\u003e\n      \u003ctd\u003eLOW\u003c/td\u003e\n      \u003ctd\u003eHIGH\u003c/td\u003e\n      \u003ctd\u003e18.043\u003c/td\u003e\n      \u003ctd\u003edrugY\u003c/td\u003e\n    \u003c/tr\u003e\n    \u003ctr\u003e\n      \u003cth\u003e...\u003c/th\u003e\n      \u003ctd\u003e...\u003c/td\u003e\n      \u003ctd\u003e...\u003c/td\u003e\n      \u003ctd\u003e...\u003c/td\u003e\n      \u003ctd\u003e...\u003c/td\u003e\n      \u003ctd\u003e...\u003c/td\u003e\n      \u003ctd\u003e...\u003c/td\u003e\n    \u003c/tr\u003e\n    \u003ctr\u003e\n      \u003cth\u003e195\u003c/th\u003e\n      \u003ctd\u003e56\u003c/td\u003e\n      \u003ctd\u003eF\u003c/td\u003e\n      \u003ctd\u003eLOW\u003c/td\u003e\n      \u003ctd\u003eHIGH\u003c/td\u003e\n      \u003ctd\u003e11.567\u003c/td\u003e\n      \u003ctd\u003edrugC\u003c/td\u003e\n    \u003c/tr\u003e\n    \u003ctr\u003e\n      \u003cth\u003e196\u003c/th\u003e\n      \u003ctd\u003e16\u003c/td\u003e\n      \u003ctd\u003eM\u003c/td\u003e\n      \u003ctd\u003eLOW\u003c/td\u003e\n      \u003ctd\u003eHIGH\u003c/td\u003e\n      \u003ctd\u003e12.006\u003c/td\u003e\n      \u003ctd\u003edrugC\u003c/td\u003e\n    \u003c/tr\u003e\n    \u003ctr\u003e\n      \u003cth\u003e197\u003c/th\u003e\n      \u003ctd\u003e52\u003c/td\u003e\n      \u003ctd\u003eM\u003c/td\u003e\n      \u003ctd\u003eNORMAL\u003c/td\u003e\n      \u003ctd\u003eHIGH\u003c/td\u003e\n      \u003ctd\u003e9.894\u003c/td\u003e\n      \u003ctd\u003edrugX\u003c/td\u003e\n    \u003c/tr\u003e\n    \u003ctr\u003e\n      \u003cth\u003e198\u003c/th\u003e\n      \u003ctd\u003e23\u003c/td\u003e\n      \u003ctd\u003eM\u003c/td\u003e\n      \u003ctd\u003eNORMAL\u003c/td\u003e\n      \u003ctd\u003eNORMAL\u003c/td\u003e\n      \u003ctd\u003e14.020\u003c/td\u003e\n      \u003ctd\u003edrugX\u003c/td\u003e\n    \u003c/tr\u003e\n    \u003ctr\u003e\n      \u003cth\u003e199\u003c/th\u003e\n      \u003ctd\u003e40\u003c/td\u003e\n      \u003ctd\u003eF\u003c/td\u003e\n      \u003ctd\u003eLOW\u003c/td\u003e\n      \u003ctd\u003eNORMAL\u003c/td\u003e\n      \u003ctd\u003e11.349\u003c/td\u003e\n      \u003ctd\u003edrugX\u003c/td\u003e\n    \u003c/tr\u003e\n  \u003c/tbody\u003e\n\u003c/table\u003e\n\u003cp\u003e200 rows × 6 columns\u003c/p\u003e\n\u003c/div\u003e",
                        "text/plain": "     Age Sex      BP Cholesterol  Na_to_K   Drug\n0     23   F    HIGH        HIGH   25.355  drugY\n1     47   M     LOW        HIGH   13.093  drugC\n2     47   M     LOW        HIGH   10.114  drugC\n3     28   F  NORMAL        HIGH    7.798  drugX\n4     61   F     LOW        HIGH   18.043  drugY\n..   ...  ..     ...         ...      ...    ...\n195   56   F     LOW        HIGH   11.567  drugC\n196   16   M     LOW        HIGH   12.006  drugC\n197   52   M  NORMAL        HIGH    9.894  drugX\n198   23   M  NORMAL      NORMAL   14.020  drugX\n199   40   F     LOW      NORMAL   11.349  drugX\n\n[200 rows x 6 columns]"
                    },
                    "execution_count": 22,
                    "metadata": {},
                    "output_type": "execute_result"
                }
            ],
            "source": [
                "#TODO: Write code to display information about the data frame\n",
                "from pandas import DataFrame\n",
                "\n",
                "df = pd.DataFrame(my_data)\n",
                "df"
            ]
        },
        {
            "cell_type": "code",
            "execution_count": 24,
            "metadata": {},
            "outputs": [
                {
                    "name": "stdout",
                    "output_type": "stream",
                    "text": "              Age     Na_to_K\ncount  200.000000  200.000000\nmean    44.315000   16.084485\nstd     16.544315    7.223956\nmin     15.000000    6.269000\n25%     31.000000   10.445500\n50%     45.000000   13.936500\n75%     58.000000   19.380000\nmax     74.000000   38.247000\n"
                }
            ],
            "source": [
                "#TODO: Write code to display statistics about the data frame\n",
                "stats = df.describe()\n",
                "print (stats)"
            ]
        },
        {
            "attachments": {},
            "cell_type": "markdown",
            "metadata": {},
            "source": [
                "# Clean data"
            ]
        },
        {
            "attachments": {},
            "cell_type": "markdown",
            "metadata": {},
            "source": [
                "**Correcting**"
            ]
        },
        {
            "cell_type": "code",
            "execution_count": 0,
            "metadata": {},
            "outputs": [],
            "source": [
                "#TODO: Write code to drop rows having missing values\n",
                ""
            ]
        },
        {
            "attachments": {},
            "cell_type": "markdown",
            "metadata": {},
            "source": [
                "**Converting**"
            ]
        },
        {
            "attachments": {},
            "cell_type": "markdown",
            "metadata": {},
            "source": [
                "Declare two variables:\n",
                "\n",
                "* X: feature matrix with the data \n",
                "* y: response vector with target information[link text](https://)\n",
                ""
            ]
        },
        {
            "cell_type": "code",
            "execution_count": 14,
            "metadata": {},
            "outputs": [
                {
                    "data": {
                        "text/plain": "array([[23, 'F', 'HIGH', 'HIGH', 25.355],\n       [47, 'M', 'LOW', 'HIGH', 13.093],\n       [47, 'M', 'LOW', 'HIGH', 10.114],\n       [28, 'F', 'NORMAL', 'HIGH', 7.798],\n       [61, 'F', 'LOW', 'HIGH', 18.043]], dtype=object)"
                    },
                    "execution_count": 14,
                    "metadata": {},
                    "output_type": "execute_result"
                }
            ],
            "source": [
                "#TODO: Write code to declare X\n",
                "# Hint: remove the column containing the target of this prediction problem\n",
                "# Note: To run the next section, X is expected to be an array. \n",
                "# You can get an array from a data frame with: X = X.values\n",
                "import numpy as np # linear algebra\n",
                "import pandas as pd # data processing, CSV file I/O (e.g. pd.read_csv)\n",
                "\n",
                "# import required sklearn libraries for Decision Tree Classifier\n",
                "import sklearn\n",
                "from sklearn.tree import DecisionTreeClassifier\n",
                "from sklearn import preprocessing\n",
                "from sklearn.model_selection import train_test_split\n",
                "\n",
                "my_data = pd.read_csv(\"SupervisedLearning/DrugSelection/drug200.csv\")\n",
                "\n",
                "X = my_data[['Age' , 'Sex' , 'BP' , 'Cholesterol' , 'Na_to_K']].values\n",
                "\n",
                "#TODO: Write code to inspect the first five rows of X\n",
                "# Note: If X is an array, instead of using the head() function,\n",
                "# you will need to use array functionality to output the first five values.\n",
                "X[0:5]"
            ]
        },
        {
            "attachments": {},
            "cell_type": "markdown",
            "metadata": {},
            "source": [
                "As you may figure out, some features in this dataset are categorical, such as **Sex** or **BP**. Unfortunately, Sklearn Decision Trees does not handle categorical variables. We can still convert these features to numerical values using **pandas.get_dummies()** to convert the categorical variable into dummy/indicator variables.\n",
                "\n",
                "**Note:** If you run this block once, in order to run it again, you will need to redeclare X in the previous block or it will throw errors trying to convert data it has already converted."
            ]
        },
        {
            "cell_type": "code",
            "execution_count": 5,
            "metadata": {},
            "outputs": [
                {
                    "data": {
                        "text/plain": "array([[23, 0, 0, 0, 25.355],\n       [47, 1, 1, 0, 13.093],\n       [47, 1, 1, 0, 10.114],\n       [28, 0, 2, 0, 7.798],\n       [61, 0, 1, 0, 18.043]], dtype=object)"
                    },
                    "execution_count": 5,
                    "metadata": {},
                    "output_type": "execute_result"
                }
            ],
            "source": [
                "# Define a label encoder for the sex feature to be 0 or 1\n",
                "# X is expected to be an array here. If it's a dataframe, get the array version by running:\n",
                "# X = X.values\n",
                "\n",
                "import numpy as np\n",
                "import pandas as pd\n",
                "import sklearn\n",
                "from sklearn.tree import DecisionTreeClassifier\n",
                "from sklearn import preprocessing\n",
                "from sklearn.model_selection import train_test_split\n",
                "\n",
                "my_data = pd.read_csv(\"SupervisedLearning/DrugSelection/drug200.csv\")\n",
                "\n",
                "X = my_data[['Age' , 'Sex' , 'BP' , 'Cholesterol' , 'Na_to_K']].values\n",
                "\n",
                "from sklearn import preprocessing\n",
                "le_sex = preprocessing.LabelEncoder()\n",
                "le_sex.fit(['F','M'])\n",
                "X[:,1] = le_sex.transform(X[:,1]) \n",
                "\n",
                "#TODO: Write code to encode the BP feature in X[:,2]\n",
                "# from 'Low', 'NORMAL', 'HIGH', to 0, 1, 2\n",
                "le_BP = preprocessing.LabelEncoder()\n",
                "le_BP.fit([ 'LOW', 'NORMAL', 'HIGH'])\n",
                "X[:,2] = le_BP.transform(X[:,2])\n",
                "\n",
                "\n",
                "# Define a label encoder for the Chol feature to be 0 or 1\n",
                "le_Chol = preprocessing.LabelEncoder()\n",
                "le_Chol.fit([ 'NORMAL', 'HIGH'])\n",
                "X[:,3] = le_Chol.transform(X[:,3]) \n",
                "\n",
                "X[0:5]"
            ]
        },
        {
            "cell_type": "code",
            "execution_count": 7,
            "metadata": {},
            "outputs": [
                {
                    "data": {
                        "text/plain": "0    drugY\n1    drugC\n2    drugC\n3    drugX\n4    drugY\nName: Drug, dtype: object"
                    },
                    "execution_count": 7,
                    "metadata": {},
                    "output_type": "execute_result"
                }
            ],
            "source": [
                "#TODO: Write code to declare y\n",
                "# Hint: this is the column containing the target of this prediction problem\n",
                "y = my_data[\"Drug\"]\n",
                "#TODO: Write code to inspect the first five rows of y\n",
                "y[0:5]"
            ]
        },
        {
            "attachments": {},
            "cell_type": "markdown",
            "metadata": {},
            "source": [
                "# Earn Your Wings"
            ]
        },
        {
            "attachments": {},
            "cell_type": "markdown",
            "metadata": {},
            "source": [
                "Use a decision tree classifier on the cleaned data set to predict y for the given data. Report the accuracy score. Add comments in your code to explain each step that you take in your implementation."
            ]
        },
        {
            "cell_type": "code",
            "execution_count": 47,
            "metadata": {},
            "outputs": [
                {
                    "name": "stdout",
                    "output_type": "stream",
                    "text": "X_trainsetX SHAPE:  (140, 5)\ny_trainsetX SHAPE:  (140,)\nX_testsetX SHAPE:  (60, 5)\ny_testsetX SHAPE:  (60,)\n['drugY' 'drugX' 'drugX' 'drugX' 'drugX']\n40     drugY\n51     drugX\n139    drugX\n197    drugX\n170    drugX\nName: Drug, dtype: object\nDecisionTrees's Accuracy:  0.9833333333333333\n"
                },
                {
                    "ename": "ModuleNotFoundError",
                    "evalue": "No module named 'pydotplus'",
                    "output_type": "error",
                    "traceback": [
                        "\u001b[0;31m---------------------------------------------------------------------------\u001b[0m",
                        "\u001b[0;31mModuleNotFoundError\u001b[0m                       Traceback (most recent call last)",
                        "Input \u001b[0;32mIn [1]\u001b[0m, in \u001b[0;36m\u003ccell line: 26\u003e\u001b[0;34m()\u001b[0m\n\u001b[1;32m     23\u001b[0m \u001b[38;5;66;03m#Visullization: Issues due to not having Pydotplus and graphviz libraries in the system\u001b[39;00m\n\u001b[1;32m     25\u001b[0m \u001b[38;5;28;01mfrom\u001b[39;00m  \u001b[38;5;21;01mio\u001b[39;00m \u001b[38;5;28;01mimport\u001b[39;00m StringIO\n\u001b[0;32m---\u003e 26\u001b[0m \u001b[38;5;28;01mimport\u001b[39;00m \u001b[38;5;21;01mpydotplus\u001b[39;00m\n\u001b[1;32m     27\u001b[0m \u001b[38;5;28;01mimport\u001b[39;00m \u001b[38;5;21;01mmatplotlib\u001b[39;00m\u001b[38;5;21;01m.\u001b[39;00m\u001b[38;5;21;01mimage\u001b[39;00m \u001b[38;5;28;01mas\u001b[39;00m \u001b[38;5;21;01mmpimg\u001b[39;00m\n\u001b[1;32m     28\u001b[0m \u001b[38;5;28;01mfrom\u001b[39;00m \u001b[38;5;21;01msklearn\u001b[39;00m \u001b[38;5;28;01mimport\u001b[39;00m tree\n",
                        "\u001b[0;31mModuleNotFoundError\u001b[0m: No module named 'pydotplus'"
                    ]
                }
            ],
            "source": [
                "\n",
                "# practice testing\n",
                "print(\"X_trainsetX SHAPE:  \" + str(X_trainset.shape))\n",
                "print(\"y_trainsetX SHAPE:  \" + str(y_trainset.shape))\n",
                "\n",
                "print(\"X_testsetX SHAPE:  \" + str(X_testset.shape))\n",
                "print(\"y_testsetX SHAPE:  \" + str(y_testset.shape))\n",
                "#Modeling \n",
                "drugTree = DecisionTreeClassifier(criterion=\"entropy\", max_depth = 4)\n",
                "drugTree\n",
                "drugTree.fit(X_trainset,y_trainset)\n",
                "\n",
                "# prediction testing\n",
                "predTree = drugTree.predict(X_testset)\n",
                "print (predTree [0:5])\n",
                "print (y_testset [0:5])\n",
                "\n",
                "#Importing metrics and Evaluations\n",
                "\n",
                "from sklearn import metrics\n",
                "import matplotlib.pyplot as plt\n",
                "print(\"DecisionTrees's Accuracy: \", metrics.accuracy_score(y_testset, predTree))\n",
                "\n",
                "#Visullization: Issues due to not having Pydotplus and graphviz libraries in the system\n",
                "\n",
                "from  io import StringIO\n",
                "import pydotplus\n",
                "import matplotlib.image as mpimg\n",
                "from sklearn import tree\n",
                "%matplotlib inline \n",
                "\n",
                "dot_data = StringIO()\n",
                "filename = \"drugtree.png\"\n",
                "featureNames = my_data.columns[0:5]\n",
                "out=tree.export_graphviz(drugTree,feature_names=featureNames, out_file=dot_data, class_names= np.unique(y_trainset), filled=True,  special_characters=True,rotate=False)  \n",
                "graph = pydotplus.graph_from_dot_data(dot_data.getvalue())  \n",
                "graph.write_png(filename)\n",
                "img = mpimg.imread(filename)\n",
                "plt.figure(figsize=(100, 200))\n",
                "plt.imshow(img,interpolation='nearest')"
            ]
        },
        {
            "attachments": {},
            "cell_type": "markdown",
            "metadata": {},
            "source": [
                ""
            ]
        }
    ]
}
